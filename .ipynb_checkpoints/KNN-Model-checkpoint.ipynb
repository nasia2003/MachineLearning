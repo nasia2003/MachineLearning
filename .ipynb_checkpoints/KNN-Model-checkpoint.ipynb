{
 "cells": [
  {
   "cell_type": "markdown",
   "id": "d83c6d7b-899b-435b-aa5f-9cc6c011bdf1",
   "metadata": {},
   "source": [
    "# KNN Model"
   ]
  },
  {
   "cell_type": "code",
   "execution_count": null,
   "id": "43c3ba16-eaf1-4b4b-91ea-3cfe5b887a20",
   "metadata": {},
   "outputs": [],
   "source": [
    "class KNN():\n",
    "    def __init__(self, k):\n",
    "        self.k = k\n",
    "    # Machine-learning-co-ban.pdf\n",
    "    # Công thức 9.1\n",
    "    def fit(self, X_train, y_train):\n",
    "        self.X_train = X_train\n",
    "        self.y_train = y_train\n",
    "        self.X_train_l2 = sum(X_train*X_train, 1) #Chuẩn bình phương\n",
    "    # Tính khoảng cách Euclid của mỗi (x_test_i, x_train_j) trong X_test và X_train\n",
    "    def caculate_Euclidean_distace_Matrix(self, X_test):\n",
    "        return self.X_train_l2 - 2*X_test.dot(self.X_train).T)\n",
    "\n",
    "    def find_k_nearest_neighbors(self, Euclidean_distances):\n",
    "        neighbors = []\n",
    "        distances = []\n",
    "        for i in range(len(Euclidean_distances)):\n",
    "            distances.append((self.y_train[i], Euclidean_distances[i]))\n",
    "        distances.sort(key = lambda x: x[1])\n",
    "        for i in range(self.k):\n",
    "            neighbors.append(distances[i][0])\n",
    "        return neighbors\n",
    "\n",
    "    def predict(self, X_test):\n",
    "        predictions = []\n",
    "        Euclidean_distance_Matrix = self.caculate_Euclidean_distace_Matrix(X_test)\n",
    "        for Euclidean_distances in Euclidean_distance_Matrix:\n",
    "            neighbors = self.find_k_nearest_neighbors(Euclidean_distances)\n",
    "            prediction = max(neighbors, key = neighbors.count)\n",
    "            predictions.append(prediction)\n",
    "        return predictions"
   ]
  }
 ],
 "metadata": {
  "kernelspec": {
   "display_name": "Python 3 (ipykernel)",
   "language": "python",
   "name": "python3"
  },
  "language_info": {
   "codemirror_mode": {
    "name": "ipython",
    "version": 3
   },
   "file_extension": ".py",
   "mimetype": "text/x-python",
   "name": "python",
   "nbconvert_exporter": "python",
   "pygments_lexer": "ipython3",
   "version": "3.11.4"
  }
 },
 "nbformat": 4,
 "nbformat_minor": 5
}
