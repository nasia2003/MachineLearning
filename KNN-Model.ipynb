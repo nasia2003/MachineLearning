{
 "cells": [
  {
   "cell_type": "markdown",
   "id": "d83c6d7b-899b-435b-aa5f-9cc6c011bdf1",
   "metadata": {},
   "source": [
    "# KNN Model"
   ]
  },
  {
   "cell_type": "code",
   "execution_count": 1,
   "id": "43c3ba16-eaf1-4b4b-91ea-3cfe5b887a20",
   "metadata": {},
   "outputs": [],
   "source": [
    "class KNN():\n",
    "    def __init__(self, k):\n",
    "        self.k = k\n",
    "    # Machine-learning-co-ban.pdf\n",
    "    # Công thức 9.1\n",
    "    def fit(self, X_train, y_train):\n",
    "        self.X_train = X_train\n",
    "        self.y_train = y_train\n",
    "        self.X_train_l2 = np.sum(X_train*X_train, 1).reshape(1, -1) #Chuẩn bình phương\n",
    "        # print((self.X_train*self.X_train).shape)\n",
    "        # print(self.X_train.shape)\n",
    "        # print(self.X_train_l2.shape)\n",
    "        \n",
    "    # Tính khoảng cách Euclid của mỗi (x_test_i, x_train_j) trong X_test và X_train\n",
    "    def caculate_Euclidean_distace_Matrix(self, X_test):\n",
    "        return self.X_train_l2 - 2*X_test.dot(self.X_train.T)\n",
    "\n",
    "    def find_k_nearest_neighbors(self, Euclidean_distances):\n",
    "        neighbors = []\n",
    "        distances = []\n",
    "        for i in range(len(Euclidean_distances)):\n",
    "            distances.append((self.y_train[i], Euclidean_distances[i]))\n",
    "        distances.sort(key = lambda x: x[1])\n",
    "        for i in range(self.k):\n",
    "            neighbors.append(distances[i][0])\n",
    "        return neighbors\n",
    "\n",
    "    def predict(self, X_test):\n",
    "        predictions = []\n",
    "        Euclidean_distance_Matrix = self.caculate_Euclidean_distace_Matrix(X_test)\n",
    "        for Euclidean_distances in Euclidean_distance_Matrix:\n",
    "            neighbors = self.find_k_nearest_neighbors(Euclidean_distances)\n",
    "            prediction = max(neighbors, key = neighbors.count)\n",
    "            predictions.append(prediction)\n",
    "        return predictions"
   ]
  },
  {
   "cell_type": "markdown",
   "id": "9e56ce00-a4ab-4835-8be1-1722177112f4",
   "metadata": {},
   "source": [
    "# Import libraries"
   ]
  },
  {
   "cell_type": "code",
   "execution_count": 2,
   "id": "56b61c49-586c-4b45-9d27-9d042e08da3e",
   "metadata": {},
   "outputs": [],
   "source": [
    "import numpy as np\n",
    "import matplotlib.pyplot as plt\n",
    "import pandas as pd\n",
    "from sklearn.datasets import load_iris\n",
    "from __future__ import print_function\n",
    "from sklearn.model_selection import train_test_split # for splitting data\n",
    "from sklearn.metrics import accuracy_score # for evaluating results"
   ]
  },
  {
   "cell_type": "markdown",
   "id": "4a82fc33-b3af-4593-975c-b209263788d1",
   "metadata": {},
   "source": [
    "# Prepare data"
   ]
  },
  {
   "cell_type": "code",
   "execution_count": 3,
   "id": "2b10072f-36f7-4e3a-87e5-fbaa093be78a",
   "metadata": {},
   "outputs": [],
   "source": [
    "iris = load_iris()\n",
    "iris_X = iris.data\n",
    "iris_y = iris.target"
   ]
  },
  {
   "cell_type": "code",
   "execution_count": 4,
   "id": "1017f467-bb13-4a85-82bf-627ec3ca3739",
   "metadata": {},
   "outputs": [
    {
     "name": "stdout",
     "output_type": "stream",
     "text": [
      "Labels: [0 1 2]\n",
      "Training size: 20 , test size: 130\n"
     ]
    }
   ],
   "source": [
    "print('Labels:', np.unique(iris_y))\n",
    "# split train and test\n",
    "np.random.seed(42)\n",
    "X_train, X_test, y_train, y_test = train_test_split(iris_X, iris_y, test_size=130)\n",
    "print('Training size:', X_train.shape[0], ', test size:', X_test.shape[0])"
   ]
  },
  {
   "cell_type": "code",
   "execution_count": 5,
   "id": "f187bcdf-a919-404e-97e1-94d412e15b7d",
   "metadata": {},
   "outputs": [
    {
     "name": "stdout",
     "output_type": "stream",
     "text": [
      "Accuracy of 2NN: 97.69 %\n"
     ]
    }
   ],
   "source": [
    "model = KNN(2)\n",
    "model.fit(X_train, y_train)\n",
    "y_pred = model.predict(X_test)\n",
    "print(\"Accuracy of 2NN: %.2f %%\" %(100*accuracy_score(y_test, y_pred)))"
   ]
  }
 ],
 "metadata": {
  "kernelspec": {
   "display_name": "Python 3 (ipykernel)",
   "language": "python",
   "name": "python3"
  },
  "language_info": {
   "codemirror_mode": {
    "name": "ipython",
    "version": 3
   },
   "file_extension": ".py",
   "mimetype": "text/x-python",
   "name": "python",
   "nbconvert_exporter": "python",
   "pygments_lexer": "ipython3",
   "version": "3.11.4"
  }
 },
 "nbformat": 4,
 "nbformat_minor": 5
}
